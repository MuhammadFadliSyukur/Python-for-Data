{
  "nbformat": 4,
  "nbformat_minor": 0,
  "metadata": {
    "colab": {
      "provenance": [],
      "authorship_tag": "ABX9TyPuwqBl+CWFjVWzpa1Wi++Y",
      "include_colab_link": true
    },
    "kernelspec": {
      "name": "python3",
      "display_name": "Python 3"
    },
    "language_info": {
      "name": "python"
    }
  },
  "cells": [
    {
      "cell_type": "markdown",
      "metadata": {
        "id": "view-in-github",
        "colab_type": "text"
      },
      "source": [
        "<a href=\"https://colab.research.google.com/github/MuhammadFadliSyukur/Python-for-Data/blob/main/Basic/Exercise/3_Number_exercise.ipynb\" target=\"_parent\"><img src=\"https://colab.research.google.com/assets/colab-badge.svg\" alt=\"Open In Colab\"/></a>"
      ]
    },
    {
      "cell_type": "markdown",
      "source": [
        "#Exercise: Python Number"
      ],
      "metadata": {
        "id": "murUqoxw-rz3"
      }
    },
    {
      "cell_type": "markdown",
      "source": [
        "1. You have a football field that is 92 meter long and 48.8 meter wide. Find out total are using python and print it!"
      ],
      "metadata": {
        "id": "LpF0odTt-1dS"
      }
    },
    {
      "cell_type": "code",
      "execution_count": null,
      "metadata": {
        "id": "Z4VLQAm4-lSQ"
      },
      "outputs": [],
      "source": [
        "lengh"
      ]
    }
  ]
}