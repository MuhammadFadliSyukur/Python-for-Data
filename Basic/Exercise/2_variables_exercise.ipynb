{
  "nbformat": 4,
  "nbformat_minor": 0,
  "metadata": {
    "colab": {
      "provenance": [],
      "authorship_tag": "ABX9TyOKbAQzZpkfG637RSGGaNv/",
      "include_colab_link": true
    },
    "kernelspec": {
      "name": "python3",
      "display_name": "Python 3"
    },
    "language_info": {
      "name": "python"
    }
  },
  "cells": [
    {
      "cell_type": "markdown",
      "metadata": {
        "id": "view-in-github",
        "colab_type": "text"
      },
      "source": [
        "<a href=\"https://colab.research.google.com/github/MuhammadFadliSyukur/Python-for-Data/blob/main/Basic/Exercise/2_variables_exercise.ipynb\" target=\"_parent\"><img src=\"https://colab.research.google.com/assets/colab-badge.svg\" alt=\"Open In Colab\"/></a>"
      ]
    },
    {
      "cell_type": "markdown",
      "source": [
        "#Exercise: Python Variables"
      ],
      "metadata": {
        "id": "VNwDFYGs8CbX"
      }
    },
    {
      "cell_type": "markdown",
      "source": [
        "1. Create a variable called break and assign it a value 5. See what happens and find out the reason behind the behavior that you see."
      ],
      "metadata": {
        "id": "ogjW15B18Mrz"
      }
    },
    {
      "cell_type": "code",
      "execution_count": null,
      "metadata": {
        "id": "a4yJwmqB7HJc"
      },
      "outputs": [],
      "source": [
        "# break = 5"
      ]
    },
    {
      "cell_type": "markdown",
      "source": [
        "2. Create two variables. One to store your birth year and another one to store current year. Now calculate your age using these two variables"
      ],
      "metadata": {
        "id": "QoNdEDIS9RDF"
      }
    },
    {
      "cell_type": "code",
      "source": [
        "MyBirthYear = 2000\n",
        "CurrentYear = 2023\n",
        "\n",
        "MyAge = CurrentYear - MyBirthYear\n",
        "MyAge"
      ],
      "metadata": {
        "id": "3j9IBt_39QyH",
        "outputId": "2886622f-1697-4d2b-b0d5-61168ab818ab",
        "colab": {
          "base_uri": "https://localhost:8080/"
        }
      },
      "execution_count": 3,
      "outputs": [
        {
          "output_type": "execute_result",
          "data": {
            "text/plain": [
              "23"
            ]
          },
          "metadata": {},
          "execution_count": 3
        }
      ]
    },
    {
      "cell_type": "markdown",
      "source": [
        "3. Store your first, middle and last name in three different variables and then print your full name using these variables"
      ],
      "metadata": {
        "id": "ofscLCYq9qsc"
      }
    },
    {
      "cell_type": "code",
      "source": [
        "first = 'Muhammad'\n",
        "middle = 'Fadli'\n",
        "last = 'Syukur'\n",
        "\n",
        "print('My Fullname is : ' + first + ' ' + middle + ' ' + last)"
      ],
      "metadata": {
        "id": "Tc0_mqvE9qdU",
        "outputId": "94ca82a2-3823-406c-f615-3aa996ce227a",
        "colab": {
          "base_uri": "https://localhost:8080/"
        }
      },
      "execution_count": 5,
      "outputs": [
        {
          "output_type": "stream",
          "name": "stdout",
          "text": [
            "My Fullname is : Muhammad Fadli Syukur\n"
          ]
        }
      ]
    },
    {
      "cell_type": "markdown",
      "source": [
        "4. Answer which of these are invalid variable names: \"_nation, 1record, record1, record_one, record-one, record^one, continue\""
      ],
      "metadata": {
        "id": "vRtZ-cZc9874"
      }
    },
    {
      "cell_type": "markdown",
      "source": [
        "1record, record-one, record^one, continue"
      ],
      "metadata": {
        "id": "wtsAIDXX-Duw"
      }
    }
  ]
}